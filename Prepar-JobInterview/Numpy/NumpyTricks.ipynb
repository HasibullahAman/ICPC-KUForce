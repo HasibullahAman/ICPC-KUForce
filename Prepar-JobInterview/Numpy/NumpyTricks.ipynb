{
 "cells": [
  {
   "cell_type": "markdown",
   "source": [
    "# Numpy Tricks"
   ],
   "metadata": {
    "collapsed": false
   }
  },
  {
   "cell_type": "code",
   "execution_count": 9,
   "outputs": [],
   "source": [
    "import numpy as np\n",
    "import pandas as pd\n",
    "import matplotlib.pyplot as plt\n",
    "import seaborn as sns"
   ],
   "metadata": {
    "collapsed": false,
    "ExecuteTime": {
     "end_time": "2023-12-14T00:49:09.100817500Z",
     "start_time": "2023-12-14T00:49:08.217323200Z"
    }
   }
  },
  {
   "cell_type": "code",
   "execution_count": 10,
   "outputs": [
    {
     "data": {
      "text/plain": "array([2, 4, 6])"
     },
     "execution_count": 10,
     "metadata": {},
     "output_type": "execute_result"
    }
   ],
   "source": [
    "arr = np.array([2,4,6])\n",
    "arr"
   ],
   "metadata": {
    "collapsed": false,
    "ExecuteTime": {
     "end_time": "2023-12-14T00:49:09.102815900Z",
     "start_time": "2023-12-14T00:49:08.248306400Z"
    }
   }
  },
  {
   "cell_type": "markdown",
   "source": [
    "#### Create one's matrics"
   ],
   "metadata": {
    "collapsed": false
   }
  },
  {
   "cell_type": "code",
   "execution_count": 5,
   "outputs": [
    {
     "data": {
      "text/plain": "array([[1., 1., 1.],\n       [1., 1., 1.]])"
     },
     "execution_count": 5,
     "metadata": {},
     "output_type": "execute_result"
    }
   ],
   "source": [
    "oneMatrics = np.ones([2,3])\n",
    "oneMatrics"
   ],
   "metadata": {
    "collapsed": false,
    "ExecuteTime": {
     "end_time": "2023-12-14T00:34:33.045528700Z",
     "start_time": "2023-12-14T00:34:33.017546800Z"
    }
   }
  },
  {
   "cell_type": "markdown",
   "source": [
    "#### Create Zero's metrics"
   ],
   "metadata": {
    "collapsed": false
   }
  },
  {
   "cell_type": "code",
   "execution_count": 6,
   "outputs": [
    {
     "data": {
      "text/plain": "array([[0, 0, 0, 0, 0],\n       [0, 0, 0, 0, 0],\n       [0, 0, 0, 0, 0],\n       [0, 0, 0, 0, 0]])"
     },
     "execution_count": 6,
     "metadata": {},
     "output_type": "execute_result"
    }
   ],
   "source": [
    "np.zeros([4,5],dtype = 'int32')"
   ],
   "metadata": {
    "collapsed": false,
    "ExecuteTime": {
     "end_time": "2023-12-14T00:39:21.544698300Z",
     "start_time": "2023-12-14T00:39:21.509718300Z"
    }
   }
  },
  {
   "cell_type": "markdown",
   "source": [
    "#### Arrange Function"
   ],
   "metadata": {
    "collapsed": false
   }
  },
  {
   "cell_type": "code",
   "execution_count": 7,
   "outputs": [
    {
     "data": {
      "text/plain": "array([0, 1, 2, 3, 4, 5, 6, 7, 8, 9])"
     },
     "execution_count": 7,
     "metadata": {},
     "output_type": "execute_result"
    }
   ],
   "source": [
    "np.arange(10)"
   ],
   "metadata": {
    "collapsed": false,
    "ExecuteTime": {
     "end_time": "2023-12-14T00:40:33.401172800Z",
     "start_time": "2023-12-14T00:40:33.386181600Z"
    }
   }
  },
  {
   "cell_type": "markdown",
   "source": [
    "### Tile\n",
    "- we use in this format np.tile(2,[3,4]), and it's mean, create an array that have 3 rows and 4 columns and fill it with 2,"
   ],
   "metadata": {
    "collapsed": false
   }
  },
  {
   "cell_type": "code",
   "execution_count": 8,
   "outputs": [
    {
     "data": {
      "text/plain": "array([[2, 2, 2, 2],\n       [2, 2, 2, 2],\n       [2, 2, 2, 2]])"
     },
     "execution_count": 8,
     "metadata": {},
     "output_type": "execute_result"
    }
   ],
   "source": [
    "np.tile(2,[3,4])"
   ],
   "metadata": {
    "collapsed": false,
    "ExecuteTime": {
     "end_time": "2023-12-14T00:45:49.461313900Z",
     "start_time": "2023-12-14T00:45:49.435330Z"
    }
   }
  },
  {
   "cell_type": "markdown",
   "source": [
    "### Repeat Function:\n",
    "-  it works in this format, np.repeat([2,3],2), it give an array in the first argument and repeat the number you put in the second argument."
   ],
   "metadata": {
    "collapsed": false
   }
  },
  {
   "cell_type": "code",
   "execution_count": 11,
   "outputs": [
    {
     "data": {
      "text/plain": "array([3, 3, 4, 4])"
     },
     "execution_count": 11,
     "metadata": {},
     "output_type": "execute_result"
    }
   ],
   "source": [
    "np.repeat([3,4],2)"
   ],
   "metadata": {
    "collapsed": false,
    "ExecuteTime": {
     "end_time": "2023-12-14T00:49:28.327901300Z",
     "start_time": "2023-12-14T00:49:28.311910700Z"
    }
   }
  },
  {
   "cell_type": "markdown",
   "source": [
    "### Linspace function\n",
    "- we use this function in this format:\n",
    "    - np.linspace(1,5,10)\n",
    "    - and it means create an array between 1 and 5 which have 10 argument"
   ],
   "metadata": {
    "collapsed": false
   }
  },
  {
   "cell_type": "code",
   "execution_count": 12,
   "outputs": [
    {
     "data": {
      "text/plain": "array([1.        , 1.44444444, 1.88888889, 2.33333333, 2.77777778,\n       3.22222222, 3.66666667, 4.11111111, 4.55555556, 5.        ])"
     },
     "execution_count": 12,
     "metadata": {},
     "output_type": "execute_result"
    }
   ],
   "source": [
    "np.linspace(1,5,10)"
   ],
   "metadata": {
    "collapsed": false,
    "ExecuteTime": {
     "end_time": "2023-12-14T01:01:00.461083700Z",
     "start_time": "2023-12-14T01:01:00.348147900Z"
    }
   }
  },
  {
   "cell_type": "markdown",
   "source": [
    "## BradCasting\n",
    "- why we need to do it with numpy bradCasting function?\n",
    "- Because if:\n",
    "   -  we have this tow array to add or subtract or another operation\n",
    "      - arr1 = np.array([1,3,5,7,9])\n",
    "      - arr2 = np.array([2,4,6,8,0])\n",
    "   - if I use the Loop it not change matter lots in this format\n",
    "   - but what about the 3k array element\n",
    "   - we use numpy bradCasting method to add the speed of operation"
   ],
   "metadata": {
    "collapsed": false
   }
  },
  {
   "cell_type": "code",
   "execution_count": 13,
   "outputs": [],
   "source": [
    "arr1 = np.array([1,3,5,7,9])\n",
    "arr2 = np.array([2,4,6,8,10])"
   ],
   "metadata": {
    "collapsed": false,
    "ExecuteTime": {
     "end_time": "2023-12-14T01:17:15.076087Z",
     "start_time": "2023-12-14T01:17:15.034112400Z"
    }
   }
  },
  {
   "cell_type": "code",
   "execution_count": 14,
   "outputs": [
    {
     "data": {
      "text/plain": "array([ 3,  7, 11, 15, 19])"
     },
     "execution_count": 14,
     "metadata": {},
     "output_type": "execute_result"
    }
   ],
   "source": [
    "arr1 + arr2"
   ],
   "metadata": {
    "collapsed": false,
    "ExecuteTime": {
     "end_time": "2023-12-14T01:17:20.781879500Z",
     "start_time": "2023-12-14T01:17:20.732905100Z"
    }
   }
  },
  {
   "cell_type": "code",
   "execution_count": 15,
   "outputs": [
    {
     "data": {
      "text/plain": "array([-1, -1, -1, -1, -1])"
     },
     "execution_count": 15,
     "metadata": {},
     "output_type": "execute_result"
    }
   ],
   "source": [
    "arr1 - arr2"
   ],
   "metadata": {
    "collapsed": false,
    "ExecuteTime": {
     "end_time": "2023-12-14T01:17:32.677308500Z",
     "start_time": "2023-12-14T01:17:32.648323100Z"
    }
   }
  },
  {
   "cell_type": "code",
   "execution_count": 16,
   "outputs": [
    {
     "data": {
      "text/plain": "array([ 2, 12, 30, 56, 90])"
     },
     "execution_count": 16,
     "metadata": {},
     "output_type": "execute_result"
    }
   ],
   "source": [
    "arr1 * arr2"
   ],
   "metadata": {
    "collapsed": false,
    "ExecuteTime": {
     "end_time": "2023-12-14T01:17:39.679369100Z",
     "start_time": "2023-12-14T01:17:39.654380600Z"
    }
   }
  },
  {
   "cell_type": "code",
   "execution_count": 17,
   "outputs": [
    {
     "data": {
      "text/plain": "array([0, 0, 0, 0, 0])"
     },
     "execution_count": 17,
     "metadata": {},
     "output_type": "execute_result"
    }
   ],
   "source": [
    "arr1 // arr2"
   ],
   "metadata": {
    "collapsed": false,
    "ExecuteTime": {
     "end_time": "2023-12-14T01:17:51.173979400Z",
     "start_time": "2023-12-14T01:17:51.135981300Z"
    }
   }
  },
  {
   "cell_type": "code",
   "execution_count": 18,
   "outputs": [
    {
     "data": {
      "text/plain": "array([1, 3, 5, 7, 9])"
     },
     "execution_count": 18,
     "metadata": {},
     "output_type": "execute_result"
    }
   ],
   "source": [
    "arr1 % arr2"
   ],
   "metadata": {
    "collapsed": false,
    "ExecuteTime": {
     "end_time": "2023-12-14T01:18:02.468680600Z",
     "start_time": "2023-12-14T01:18:02.426705300Z"
    }
   }
  },
  {
   "cell_type": "code",
   "execution_count": null,
   "outputs": [],
   "source": [],
   "metadata": {
    "collapsed": false
   }
  }
 ],
 "metadata": {
  "kernelspec": {
   "display_name": "Python 3",
   "language": "python",
   "name": "python3"
  },
  "language_info": {
   "codemirror_mode": {
    "name": "ipython",
    "version": 2
   },
   "file_extension": ".py",
   "mimetype": "text/x-python",
   "name": "python",
   "nbconvert_exporter": "python",
   "pygments_lexer": "ipython2",
   "version": "2.7.6"
  }
 },
 "nbformat": 4,
 "nbformat_minor": 0
}
